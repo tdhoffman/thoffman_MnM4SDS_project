{
 "metadata": {
  "language_info": {
   "codemirror_mode": {
    "name": "ipython",
    "version": 3
   },
   "file_extension": ".py",
   "mimetype": "text/x-python",
   "name": "python",
   "nbconvert_exporter": "python",
   "pygments_lexer": "ipython3",
   "version": "3.6.11-final"
  },
  "orig_nbformat": 2,
  "kernelspec": {
   "name": "python_defaultSpec_1602180130390",
   "display_name": "Python 3.6.11 64-bit ('gds': conda)",
   "metadata": {
    "interpreter": {
     "hash": "31f2aee4e71d21fbe5cf8b01ff0e069b9275f58929596ceb00d14d90e3e16cd6"
    }
   }
  }
 },
 "nbformat": 4,
 "nbformat_minor": 2,
 "cells": [
  {
   "cell_type": "code",
   "execution_count": 10,
   "metadata": {},
   "outputs": [],
   "source": [
    "import numpy as np\n",
    "import pandas as pd\n",
    "import geopandas as gpd\n",
    "import matplotlib.pyplot as plt\n",
    "from spint.gravity import Gravity, Production\n",
    "from spopt import MaxPHeuristic, RegionKMeansHeuristic, WardSpatial"
   ]
  },
  {
   "cell_type": "code",
   "execution_count": 4,
   "metadata": {},
   "outputs": [],
   "source": [
    "county_level = pd.read_csv('../data/weekly_county2county_08_10.csv', usecols=['geoid_o', 'geoid_d', 'visitor_flows', 'pop_flows'])"
   ]
  },
  {
   "cell_type": "code",
   "execution_count": 8,
   "metadata": {},
   "outputs": [],
   "source": [
    "ct_level = pd.read_csv('../data/weekly_ct2ct_08_10.csv', nrows=10, usecols=['geoid_o', 'geoid_d', 'visitor_flows', 'pop_flows'])"
   ]
  },
  {
   "cell_type": "code",
   "execution_count": 9,
   "metadata": {},
   "outputs": [
    {
     "output_type": "execute_result",
     "data": {
      "text/plain": "      geoid_o     geoid_d  visitor_flows  pop_flows\n0  1001020100  1001020100              8       85.0\n1  1001020100  1001020200            109     1171.0\n2  1001020100  1001020300            105     1128.0\n3  1001020100  1001020400             29      311.0\n4  1001020100  1001020500            328     3525.0\n5  1001020100  1001020600             20      214.0\n6  1001020100  1001020700            109     1171.0\n7  1001020100  1001020801             13      139.0\n8  1001020100  1001020802             12      128.0\n9  1001020100  1001020900              4       42.0",
      "text/html": "<div>\n<style scoped>\n    .dataframe tbody tr th:only-of-type {\n        vertical-align: middle;\n    }\n\n    .dataframe tbody tr th {\n        vertical-align: top;\n    }\n\n    .dataframe thead th {\n        text-align: right;\n    }\n</style>\n<table border=\"1\" class=\"dataframe\">\n  <thead>\n    <tr style=\"text-align: right;\">\n      <th></th>\n      <th>geoid_o</th>\n      <th>geoid_d</th>\n      <th>visitor_flows</th>\n      <th>pop_flows</th>\n    </tr>\n  </thead>\n  <tbody>\n    <tr>\n      <th>0</th>\n      <td>1001020100</td>\n      <td>1001020100</td>\n      <td>8</td>\n      <td>85.0</td>\n    </tr>\n    <tr>\n      <th>1</th>\n      <td>1001020100</td>\n      <td>1001020200</td>\n      <td>109</td>\n      <td>1171.0</td>\n    </tr>\n    <tr>\n      <th>2</th>\n      <td>1001020100</td>\n      <td>1001020300</td>\n      <td>105</td>\n      <td>1128.0</td>\n    </tr>\n    <tr>\n      <th>3</th>\n      <td>1001020100</td>\n      <td>1001020400</td>\n      <td>29</td>\n      <td>311.0</td>\n    </tr>\n    <tr>\n      <th>4</th>\n      <td>1001020100</td>\n      <td>1001020500</td>\n      <td>328</td>\n      <td>3525.0</td>\n    </tr>\n    <tr>\n      <th>5</th>\n      <td>1001020100</td>\n      <td>1001020600</td>\n      <td>20</td>\n      <td>214.0</td>\n    </tr>\n    <tr>\n      <th>6</th>\n      <td>1001020100</td>\n      <td>1001020700</td>\n      <td>109</td>\n      <td>1171.0</td>\n    </tr>\n    <tr>\n      <th>7</th>\n      <td>1001020100</td>\n      <td>1001020801</td>\n      <td>13</td>\n      <td>139.0</td>\n    </tr>\n    <tr>\n      <th>8</th>\n      <td>1001020100</td>\n      <td>1001020802</td>\n      <td>12</td>\n      <td>128.0</td>\n    </tr>\n    <tr>\n      <th>9</th>\n      <td>1001020100</td>\n      <td>1001020900</td>\n      <td>4</td>\n      <td>42.0</td>\n    </tr>\n  </tbody>\n</table>\n</div>"
     },
     "metadata": {},
     "execution_count": 9
    }
   ],
   "source": [
    "ct_level"
   ]
  },
  {
   "cell_type": "code",
   "execution_count": null,
   "metadata": {},
   "outputs": [],
   "source": []
  }
 ]
}
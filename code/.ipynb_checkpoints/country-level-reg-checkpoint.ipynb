{
 "cells": [
  {
   "cell_type": "code",
   "execution_count": 1,
   "metadata": {},
   "outputs": [],
   "source": [
    "import warnings\n",
    "import numpy as np\n",
    "import pandas as pd\n",
    "import geopandas as gpd\n",
    "import matplotlib.pyplot as plt\n",
    "from tqdm import tqdm\n",
    "from scipy.linalg import norm\n",
    "from pysal.lib.weights import Queen\n",
    "from spint.gravity import Gravity, Production\n",
    "from spopt import MaxPHeuristic, RegionKMeansHeuristic, WardSpatial, Skater\n",
    "\n",
    "%config InlineBackend.print_figure_kwargs={'facecolor' : 'w'}\n",
    "N_COUNTIES = 3006\n",
    "CONUS_STATES = np.array(['Alabama', 'Florida', 'Georgia', 'Louisiana', 'Minnesota',\n",
    "       'Mississippi', 'Missouri', 'Tennessee',\n",
    "       'Arizona', 'Arkansas', 'California', 'District of Columbia',\n",
    "       'Illinois', 'Indiana', 'Iowa', 'Kansas', 'Maine', 'Maryland',\n",
    "       'Massachusetts', 'New Jersey', 'New York', 'Ohio', 'Oklahoma',\n",
    "       'Pennsylvania', 'Texas', 'Virginia', 'Colorado',\n",
    "       'North Carolina', 'Utah', 'North Dakota', 'South Carolina',\n",
    "       'Montana', 'Wisconsin', 'Kentucky', 'Idaho', 'New Mexico',\n",
    "       'Nevada', 'Michigan', 'Nebraska', 'Washington', 'Oregon',\n",
    "       'Vermont', 'Wyoming', 'South Dakota', 'West Virginia',\n",
    "       'Connecticut', 'New Hampshire', 'Delaware',\n",
    "       'Rhode Island'], dtype=object)\n",
    "CONUS_FIPS = ['01', '04', '05', '06', '08', '09', '10', '11', '12', '13'] + [str(x) for x in range(16, 57)]"
   ]
  },
  {
   "cell_type": "code",
   "execution_count": 44,
   "metadata": {},
   "outputs": [],
   "source": [
    "counties = gpd.read_file('../data/county_level_data.csv', GEOM_POSSIBLE_NAMES=\"geometry\", KEEP_GEOM_COLUMNS=\"NO\")\n",
    "counties = counties.loc[counties['state'].isin(CONUS_FIPS)]\n",
    "counties['county_name'] = [x.split(',')[0] for x in counties['NAME']]"
   ]
  },
  {
   "cell_type": "code",
   "execution_count": 50,
   "metadata": {
    "scrolled": true
   },
   "outputs": [],
   "source": [
    "# Convert cols to float\n",
    "# 'B00001_001E' : total pop, 'B02001_002E' : total white people, 'B07411_001E' : median income\n",
    "counties['B00001_001E'] = counties['B00001_001E'].values.astype(float)\n",
    "counties['B02001_002E'] = counties['B02001_002E'].values.astype(float)\n",
    "counties['B07411_001E'] = pd.to_numeric(counties['B07411_001E'])\n",
    "counties.dropna(inplace=True)"
   ]
  },
  {
   "cell_type": "code",
   "execution_count": 4,
   "metadata": {},
   "outputs": [],
   "source": [
    "rawflows = pd.read_excel('../data/commuting_county2county20112015.xlsx', \n",
    "        converters={'Res_StateFIPS' : str, 'Res_CountyFIPS' : str, 'Work_StateFIPS' : str, 'Work_CountyFIPS' : str})\n",
    "rawflows = rawflows.loc[rawflows['Work_State'].isin(CONUS_STATES)]"
   ]
  },
  {
   "cell_type": "code",
   "execution_count": 29,
   "metadata": {},
   "outputs": [],
   "source": [
    "W = Queen.from_dataframe(counties)"
   ]
  },
  {
   "cell_type": "markdown",
   "metadata": {},
   "source": [
    "## TODO:\n",
    "- arrange flows]\n",
    "- run"
   ]
  },
  {
   "cell_type": "code",
   "execution_count": 51,
   "metadata": {},
   "outputs": [],
   "source": [
    "model = WardSpatial(counties, W, ['B07411_001E'], n_clusters=2)\n",
    "model.solve()\n",
    "counties['labels'] = model.labels_"
   ]
  },
  {
   "cell_type": "code",
   "execution_count": 52,
   "metadata": {},
   "outputs": [],
   "source": [
    "regdata = counties.dissolve(by='labels', aggfunc='mean')\n",
    "regdata['labels'] = regdata.index"
   ]
  },
  {
   "cell_type": "code",
   "execution_count": 53,
   "metadata": {},
   "outputs": [
    {
     "data": {
      "text/plain": [
       "<AxesSubplot:>"
      ]
     },
     "execution_count": 53,
     "metadata": {},
     "output_type": "execute_result"
    },
    {
     "data": {
      "image/png": "[encoded data removed]",
      "text/plain": [
       "<Figure size 432x288 with 1 Axes>"
      ]
     },
     "metadata": {
      "needs_background": "light"
     },
     "output_type": "display_data"
    }
   ],
   "source": [
    "regdata.plot(column='labels')"
   ]
  },
  {
   "cell_type": "code",
   "execution_count": 68,
   "metadata": {},
   "outputs": [],
   "source": [
    "cdata = rawflows.join(counties.set_index('county'), on='Res_CountyFIPS')\n",
    "flows = np.zeros((cdata['labels'].unique().shape[0], cdata['labels'].unique().shape[0]))\n",
    "# function to determine what region a county is in --- DOESN'T WORK HERE B/C STATES\n",
    "regionof = lambda county : int(cdata.loc[cdata['county_name'] == county, 'labels'].iloc[0])"
   ]
  },
  {
   "cell_type": "code",
   "execution_count": 70,
   "metadata": {},
   "outputs": [
    {
     "name": "stdout",
     "output_type": "stream",
     "text": [
      "Res_StateFIPS                                                     01\n",
      "Res_CountyFIPS                                                   001\n",
      "Res_State                                                    Alabama\n",
      "Res_County                                            Autauga County\n",
      "Work_StateFIPS                                                   001\n",
      "Work_CountyFIPS                                                  001\n",
      "Work_State                                                   Alabama\n",
      "Work_County                                           Autauga County\n",
      "Flow                                                            8828\n",
      "MOE                                                              752\n",
      "field_1                                                          104\n",
      "GEOID                                                          04001\n",
      "B00001_001E                                                    11437\n",
      "B02001_002E                                                    16314\n",
      "B07411_001E                                                    18264\n",
      "NAME                                          Apache County, Arizona\n",
      "state                                                             04\n",
      "geometry           POLYGON ((-12227696.77 4187040.08, -12227749.2...\n",
      "county_name                                            Apache County\n",
      "labels                                                             0\n",
      "Name: 0, dtype: object\n",
      "Res_StateFIPS                                                     01\n",
      "Res_CountyFIPS                                                   001\n",
      "Res_State                                                    Alabama\n",
      "Res_County                                            Autauga County\n",
      "Work_StateFIPS                                                   001\n",
      "Work_CountyFIPS                                                  001\n",
      "Work_State                                                   Alabama\n",
      "Work_County                                           Autauga County\n",
      "Flow                                                            8828\n",
      "MOE                                                              752\n",
      "field_1                                                           54\n",
      "GEOID                                                          01001\n",
      "B00001_001E                                                     3627\n",
      "B02001_002E                                                    42159\n",
      "B07411_001E                                                    27435\n",
      "NAME                                         Autauga County, Alabama\n",
      "state                                                             01\n",
      "geometry           POLYGON ((-9674008.4 3834487.29, -9674010.51 3...\n",
      "county_name                                           Autauga County\n",
      "labels                                                             1\n",
      "Name: 0, dtype: object\n"
     ]
    }
   ],
   "source": [
    "# Assemble adjacency matrix of flows\n",
    "for o in range(flows.shape[0]):\n",
    "    # Locate all flows origininating in region i and going to different regions    \n",
    "    for r in cdata.loc[cdata['labels'] == o].iterrows():\n",
    "        print(r[1])\n",
    "        break\n",
    "        dest = regionof(r[1]['Work_County'])\n",
    "        if o != dest: flows[o, dest] += r[1]['Flow']"
   ]
  },
  {
   "cell_type": "markdown",
   "metadata": {},
   "source": [
    "## Main sweeper function"
   ]
  },
  {
   "cell_type": "code",
   "execution_count": null,
   "metadata": {},
   "outputs": [],
   "source": [
    "def regsweep(method='ward', n_clusters=N_COUNTIES/2, attrs=['B07411_001E']):\n",
    "    \n",
    "    # Set up and run model \n",
    "    if method == 'ward':\n",
    "        model = WardSpatial(counties, W, attrs, n_clusters=n_clusters)\n",
    "    elif method == 'skater':\n",
    "        model = Skater(counties, W, attrs, n_clusters=n_clusters)\n",
    "    elif method == 'kmeans':\n",
    "        model = RegionKMeansHeuristic(counties[attrs].values, n_clusters, W)\n",
    "    else: raise RuntimeError('enter \\'ward\\', \\'skater\\', or \\'kmeans\\', other regionalizations unimplemented')\n",
    "    \n",
    "    with warnings.catch_warnings(record=True) as w:\n",
    "        # Cause all warnings to always be caught as errors -- necessary for kmeans\n",
    "        warnings.filterwarnings('error')\n",
    "        try:\n",
    "            model.solve()\n",
    "        except Warning: return None\n",
    "    counties['labels'] = model.labels_\n",
    "    \n",
    "    # Aggregate data and flows by the new regionalization\n",
    "    regdata = counties.dissolve(by='labels', aggfunc='mean')\n",
    "    cdata = rawflows.join(counties.set_index('county'), on='Res_CountyFIPS')\n",
    "    flows = np.zeros((cdata['labels'].unique().shape[0], cdata['labels'].unique().shape[0]))\n",
    "    \n",
    "    # function to determine what region a county is in\n",
    "    regionof = lambda county : cdata.loc[cdata['county_name'] == county, 'labels'].iloc[0]\n",
    "    \n",
    "    # Assemble adjacency matrix of flows\n",
    "    for o in range(flows.shape[0]):\n",
    "        # Locate all flows origininating in region i and going to different regions    \n",
    "        for r in CAcdata.loc[CAcdata['labels'] == o].iterrows():\n",
    "            dest = regionof(r[1]['Work_County'])\n",
    "            if o != dest: flows[o, dest] += r[1]['Flow']\n",
    "    #----CODE AFTER HERE SHOULD BE FINE------------------------------------------------\n",
    "    # Set up variables and fit gravity model\n",
    "    coords = np.hstack((regdata.centroid.x.values.reshape(-1, 1), regdata.centroid.y.values.reshape(-1, 1)))\n",
    "    o_coords = np.repeat(coords, coords.shape[0], axis=0)\n",
    "    d_coords = np.tile(coords, (coords.shape[0], 1))\n",
    "    cost = norm(o_coords - d_coords, axis=1)\n",
    "    \n",
    "    basevars = regdata[['B00001_001E', 'B02001_002E', 'B07411_001E']].astype(int).values\n",
    "    o_vars = np.repeat(basevars, basevars.shape[0], axis=0)\n",
    "    d_vars = np.tile(basevars, (basevars.shape[0], 1))\n",
    "    \n",
    "    iflows = flows.astype(int).flatten()\n",
    "    spintmodel = Gravity(iflows, o_vars, d_vars, cost, 'exp')\n",
    "    \n",
    "    # Compute how average area per unit (proxy for amount of aggregation)\n",
    "    avgarea = regdata.area.mean()\n",
    "    \n",
    "    return spintmodel.AIC, spintmodel.SRMSE, spintmodel.pseudoR2, avgarea"
   ]
  }
 ],
 "metadata": {
  "kernelspec": {
   "display_name": "Python 3",
   "language": "python",
   "name": "python3"
  },
  "language_info": {
   "codemirror_mode": {
    "name": "ipython",
    "version": 3
   },
   "file_extension": ".py",
   "mimetype": "text/x-python",
   "name": "python",
   "nbconvert_exporter": "python",
   "pygments_lexer": "ipython3",
   "version": "3.6.11"
  }
 },
 "nbformat": 4,
 "nbformat_minor": 4
}

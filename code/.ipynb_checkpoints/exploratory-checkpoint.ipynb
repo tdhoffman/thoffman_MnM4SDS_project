{
 "cells": [
  {
   "cell_type": "markdown",
   "metadata": {},
   "source": [
    "ONE-TIME USE DATA COLLECTION CALL -- do for both county and tract levels"
   ]
  },
  {
   "cell_type": "code",
   "execution_count": null,
   "metadata": {},
   "outputs": [
    {
     "name": "stderr",
     "output_type": "stream",
     "text": [
      "/home/thoffman/anaconda3/envs/gds/lib/python3.6/site-packages/fuzzywuzzy/fuzz.py:11: UserWarning: Using slow pure-python SequenceMatcher. Install python-Levenshtein to remove this warning\n",
      "  warnings.warn('Using slow pure-python SequenceMatcher. Install python-Levenshtein to remove this warning')\n",
      "/home/thoffman/anaconda3/envs/gds/lib/python3.6/site-packages/pyproj/crs/crs.py:53: FutureWarning: '+init=<authority>:<code>' syntax is deprecated. '<authority>:<code>' is the preferred initialization method. When making the change, be mindful of axis order changes: https://pyproj4.github.io/pyproj/stable/gotchas.html#axis-order-changes-in-proj-6\n",
      "  return _prepare_from_string(\" \".join(pjargs))\n"
     ]
    }
   ],
   "source": [
    "import pandas as pd\n",
    "from cenpy.products import ACS\n",
    "acs = ACS()\n",
    "level = 'tract'\n",
    "\n",
    "vars = ['B00001_001E',   # total pop  \n",
    "        'B07411_001E',   # Median income in the past 12 months -- Total living in area 1 year ago\n",
    "        'B02001_002E']   # total white people\n",
    "states = ['Alabama', 'Alaska', 'Arizona', 'Arkansas', 'California', 'Colorado', 'Connecticut', 'Delaware', 'Florida', 'Georgia', 'Hawaii', 'Idaho', 'Illinois', 'Indiana', 'Iowa', 'Kansas',\\\n",
    "    'Kentucky', 'Louisiana', 'Maine', 'Maryland', 'Massachusetts', 'Michigan', 'Minnesota', 'Mississippi', 'Missouri', 'Montana', 'Nebraska', 'Nevada', 'New Hampshire', 'New Jersey', \\\n",
    "    'New Mexico', 'New York', 'North Carolina', 'North Dakota', 'Ohio', 'Oklahoma', 'Oregon', 'Pennsylvania', 'Rhode Island', 'South Carolina', 'South Dakota', 'Tennessee', 'Texas', \\\n",
    "    'Utah', 'Vermont', 'Virginia', 'Washington', 'West Virginia', 'Wisconsin', 'Wyoming']\n",
    "#for state in states:\n",
    "#    if state == 'Alabama':\n",
    "#        data = acs.from_state(state, level=level, variables=vars)\n",
    "#    else:\n",
    "#        data = pd.concat([data, acs.from_state(state, level=level, variables=vars)], ignore_index=True)\n",
    "#    print(f'state {state} complete')\n",
    "data = acs.from_state('California', level=level, variables=vars)\n",
    "data.to_csv(f'../data/CA{level}_level_data.csv')"
   ]
  },
  {
   "cell_type": "markdown",
   "metadata": {},
   "source": [
    "## Imports and data loading"
   ]
  },
  {
   "cell_type": "code",
   "execution_count": null,
   "metadata": {},
   "outputs": [],
   "source": [
    "import sqlite3\n",
    "import numpy as np\n",
    "import pandas as pd\n",
    "import geopandas as gpd\n",
    "import matplotlib.pyplot as plt\n",
    "from scipy.linalg import norm\n",
    "from spint.gravity import Gravity, Production\n",
    "from spopt import MaxPHeuristic, RegionKMeansHeuristic, WardSpatial"
   ]
  },
  {
   "cell_type": "code",
   "execution_count": null,
   "metadata": {},
   "outputs": [],
   "source": [
    "county_level = pd.read_csv('../data/daily_county2county_08_10.csv', \\\n",
    "    usecols=['geoid_o', 'geoid_d', 'lng_o', 'lat_o', 'lng_d', 'lat_d', 'visitor_flows', 'pop_flows'])"
   ]
  },
  {
   "cell_type": "code",
   "execution_count": null,
   "metadata": {},
   "outputs": [],
   "source": [
    "ct_level = pd.read_csv('../data/daily_ct2ct_08_10.csv', nrows=10, \\\n",
    "    usecols=['geoid_o', 'geoid_d', 'lng_o', 'lat_o', 'lng_d', 'lat_d', 'visitor_flows', 'pop_flows'])"
   ]
  },
  {
   "cell_type": "code",
   "execution_count": null,
   "metadata": {},
   "outputs": [],
   "source": [
    "# Import origin and destination variables from census data tables (cenpy was too finicky)\n",
    "county_bds = gpd.read_file('../data/county_level_data.csv', GEOM_POSSIBLE_NAMES=\"geometry\", KEEP_GEOM_COLUMNS=\"NO\")"
   ]
  },
  {
   "cell_type": "code",
   "execution_count": null,
   "metadata": {},
   "outputs": [],
   "source": [
    "county_level.join(county_bds.set_index('GEOID'), on='geoid_o')"
   ]
  },
  {
   "cell_type": "code",
   "execution_count": null,
   "metadata": {},
   "outputs": [],
   "source": [
    "# Create spatial cost via distances between centroids\n",
    "o_coords = np.hstack((county_level['lng_o'].values.reshape(-1, 1), county_level['lat_o'].values.reshape(-1, 1)))\n",
    "d_coords = np.hstack((county_level['lng_d'].values.reshape(-1, 1), county_level['lat_d'].values.reshape(-1, 1)))\n",
    "cost = cdist(o_coords, d_coords)"
   ]
  },
  {
   "cell_type": "code",
   "execution_count": null,
   "metadata": {
    "tags": []
   },
   "outputs": [],
   "source": [
    "Gravity(county_level['visitor_flows'].values, o_vars, d_vars, cost, 'exp')"
   ]
  },
  {
   "cell_type": "code",
   "execution_count": null,
   "metadata": {},
   "outputs": [],
   "source": [
    "# TODO:\n",
    "# o_vars and d_vars from cenpy\n",
    "# boundaries from cenpy (join)\n",
    "# cost -- spatial distance between centroids"
   ]
  },
  {
   "cell_type": "markdown",
   "metadata": {},
   "source": [
    "## Pare it down\n",
    "The dataset is way too large to handle at once, we need to use a subset for testing speed."
   ]
  },
  {
   "cell_type": "code",
   "execution_count": null,
   "metadata": {},
   "outputs": [],
   "source": [
    "# TODO:\n",
    "# select CA flows from county2county and ct2ct\n",
    "# put gravity model on tracts and on counties\n",
    "# test aggregation schemes"
   ]
  },
  {
   "cell_type": "code",
   "execution_count": null,
   "metadata": {},
   "outputs": [],
   "source": [
    "CAtracts = gpd.read_file('../data/CAtract_level_data.csv', GEOM_POSSIBLE_NAMES=\"geometry\", KEEP_GEOM_COLUMNS=\"NO\")\n",
    "CAcounties = gpd.read_file('../data/CAcounty_level_data.csv', GEOM_POSSIBLE_NAMES=\"geometry\", KEEP_GEOM_COLUMNS=\"NO\")"
   ]
  },
  {
   "cell_type": "code",
   "execution_count": null,
   "metadata": {},
   "outputs": [],
   "source": [
    "def isCA_counties(x):\n",
    "    # Vectorized evaluation if row is a CA to CA flow in counties\n",
    "    return [el[:2] == '06' for el in x]\n",
    "\n",
    "def isCA_cts(x):\n",
    "    # Vectorized evaluation if row is a CA to CA flow in cts\n",
    "    return [el[0] == '6' and len(el) == 10 for el in x]"
   ]
  },
  {
   "cell_type": "code",
   "execution_count": null,
   "metadata": {},
   "outputs": [],
   "source": [
    "county_daily = pd.read_csv('../data/daily_county2county_08_10.csv', \n",
    "    converters={'geoid_o' : lambda x: str(x), 'geoid_d' : lambda x: str(x), 'visitor_flows' : lambda x: int(float(x)), 'pop_flows' : lambda x: int(float(x))}, \n",
    "    usecols=['geoid_o', 'geoid_d', 'lng_o', 'lat_o', 'lng_d', 'lat_d', 'visitor_flows', 'pop_flows'])\n",
    "county_daily = county_daily[np.logical_and(isCA_counties(county_daily['geoid_o']), isCA_counties(county_daily['geoid_d']))]\n",
    "\n",
    "ct_daily = pd.read_csv('../data/daily_ct2ct_08_10.csv', \n",
    "    converters={'geoid_o' : lambda x: str(x), 'geoid_d' : lambda x: str(x), 'visitor_flows' : lambda x: int(float(x)), 'pop_flows' : lambda x: int(float(x))}, \n",
    "    usecols=['geoid_o', 'geoid_d', 'lng_o', 'lat_o', 'lng_d', 'lat_d', 'visitor_flows', 'pop_flows'])\n",
    "ct_daily = ct_daily[np.logical_and(isCA_cts(ct_daily['geoid_o']), isCA_cts(ct_daily['geoid_d']))]"
   ]
  },
  {
   "cell_type": "code",
   "execution_count": null,
   "metadata": {},
   "outputs": [],
   "source": [
    "o_coords = np.hstack((county_daily['lng_o'].values.reshape(-1, 1), county_daily['lat_o'].values.reshape(-1, 1)))\n",
    "d_coords = np.hstack((county_daily['lng_d'].values.reshape(-1, 1), county_daily['lat_d'].values.reshape(-1, 1)))\n",
    "cost = norm(o_coords - d_coords, axis=1)"
   ]
  },
  {
   "cell_type": "code",
   "execution_count": null,
   "metadata": {},
   "outputs": [],
   "source": [
    "CAcounties = CAcounties.join(county_daily.set_index('geoid_o'), on='GEOID')"
   ]
  },
  {
   "cell_type": "code",
   "execution_count": null,
   "metadata": {},
   "outputs": [],
   "source": [
    "Gravity(county_daily['pop_flows'].values, county_daily['visitor_flows'].values, county_daily['visitor_flows'].values, cost, 'exp')"
   ]
  },
  {
   "cell_type": "code",
   "execution_count": null,
   "metadata": {},
   "outputs": [],
   "source": []
  }
 ],
 "metadata": {
  "kernelspec": {
   "display_name": "Python 3",
   "language": "python",
   "name": "python3"
  },
  "language_info": {
   "codemirror_mode": {
    "name": "ipython",
    "version": 3
   },
   "file_extension": ".py",
   "mimetype": "text/x-python",
   "name": "python",
   "nbconvert_exporter": "python",
   "pygments_lexer": "ipython3",
   "version": "3.6.11"
  }
 },
 "nbformat": 4,
 "nbformat_minor": 2
}
